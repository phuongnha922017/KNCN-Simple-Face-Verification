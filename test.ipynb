{
 "cells": [
  {
   "cell_type": "code",
   "execution_count": 52,
   "metadata": {},
   "outputs": [],
   "source": [
    "import threading\n",
    "import cv2\n",
    "from deepface import DeepFace\n",
    "\n",
    "\n",
    "\n",
    "def getReference():\n",
    "    cap = cv2.VideoCapture(0)\n",
    "    countdown = 3\n",
    "    counter = 0\n",
    "    while True:\n",
    "        ret, frame = cap.read()\n",
    "        cv2.putText(frame, str(countdown), (20, 450), cv2.FONT_HERSHEY_SIMPLEX, 2, (0, 0, 0), 3)\n",
    "        if countdown == 0:\n",
    "            cv2.imwrite('reference.jpg', frame)\n",
    "            break\n",
    "        cv2.imshow('frame', frame)\n",
    "        key = cv2.waitKey(1) \n",
    "        if key == ord('q'):\n",
    "            break\n",
    "        if counter % 30 == 0:\n",
    "            countdown -= 1\n",
    "        counter += 1\n",
    "    cap.release()\n",
    "    cv2.destroyAllWindows()\n"
   ]
  },
  {
   "cell_type": "code",
   "execution_count": 53,
   "metadata": {},
   "outputs": [],
   "source": [
    "\n",
    "getReference()\n",
    "     \n",
    "    \n",
    "\n",
    "    \n",
    "\n",
    "    \n",
    "        "
   ]
  },
  {
   "cell_type": "code",
   "execution_count": 54,
   "metadata": {},
   "outputs": [],
   "source": [
    "\n",
    "reference_img_path = 'reference.jpg'\n"
   ]
  },
  {
   "cell_type": "code",
   "execution_count": 55,
   "metadata": {},
   "outputs": [
    {
     "name": "stdout",
     "output_type": "stream",
     "text": [
      "here\n"
     ]
    }
   ],
   "source": [
    "counter = 0\n",
    "cap = cv2.VideoCapture(0)\n",
    "cap.set(cv2.CAP_PROP_FRAME_WIDTH, 640)\n",
    "cap.set(cv2.CAP_PROP_FRAME_HEIGHT, 480)\n",
    "match = False\n",
    "\n",
    "\n",
    "while True:\n",
    "    ret, frame = cap.read()\n",
    "    if counter == 100:\n",
    "        try:\n",
    "            frame_path = 'frame.jpg'\n",
    "            cv2.imwrite(frame_path, frame)\n",
    "            match =  DeepFace.verify(frame_path, reference_img_path, model_name='Facenet', distance_metric='cosine', normalization='Facenet')['verified']\n",
    "           \n",
    "        except ValueError:\n",
    "            print(ValueError)\n",
    "    if counter >= 100:\n",
    "        if match:\n",
    "            cv2.putText(frame, 'SUCCESS', (20, 450), cv2.FONT_HERSHEY_SIMPLEX, 2, (0, 255, 0), 3)\n",
    "\n",
    "        else:\n",
    "            cv2.putText(frame, 'TRY AGAIN', (20, 450), cv2.FONT_HERSHEY_SIMPLEX, 2, (0, 0, 255), 3)\n",
    "    if counter == 120:\n",
    "        break\n",
    "    cv2.imshow('video', frame)    \n",
    "    counter += 1    \n",
    "    key = cv2.waitKey(1) \n",
    "    if key == ord('q'):\n",
    "        break\n",
    "\n",
    "cap.release()\n",
    "cv2.destroyAllWindows()\n",
    "\n"
   ]
  },
  {
   "cell_type": "code",
   "execution_count": null,
   "metadata": {},
   "outputs": [],
   "source": []
  },
  {
   "cell_type": "code",
   "execution_count": null,
   "metadata": {},
   "outputs": [],
   "source": []
  }
 ],
 "metadata": {
  "kernelspec": {
   "display_name": "Python 3",
   "language": "python",
   "name": "python3"
  },
  "language_info": {
   "codemirror_mode": {
    "name": "ipython",
    "version": 3
   },
   "file_extension": ".py",
   "mimetype": "text/x-python",
   "name": "python",
   "nbconvert_exporter": "python",
   "pygments_lexer": "ipython3",
   "version": "3.11.9"
  }
 },
 "nbformat": 4,
 "nbformat_minor": 2
}
